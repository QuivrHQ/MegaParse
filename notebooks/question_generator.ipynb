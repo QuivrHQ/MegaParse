{
 "cells": [
  {
   "cell_type": "code",
   "execution_count": 7,
   "metadata": {},
   "outputs": [],
   "source": [
    "from langchain_core.prompts import PromptTemplate\n",
    "from langchain_openai import ChatOpenAI\n",
    "import pandas as pd\n"
   ]
  },
  {
   "cell_type": "code",
   "execution_count": 3,
   "metadata": {},
   "outputs": [],
   "source": [
    "xls = pd.ExcelFile(\"../megaparse/cdp/exemple_fournisseur.xlsx\")\n",
    "sheets = pd.read_excel(xls, 'Fiche recette')"
   ]
  },
  {
   "cell_type": "code",
   "execution_count": 4,
   "metadata": {},
   "outputs": [],
   "source": [
    "def table_to_text(df):\n",
    "    # Initialize an empty list to store the text rows\n",
    "    text_rows = []\n",
    "\n",
    "    # Iterate over each row in the DataFrame\n",
    "    for index, row in df.iterrows():\n",
    "        # Combine all columns into a single string separated by \" | \"\n",
    "        row_text = \" | \".join(str(value) for value in row.values if pd.notna(value))\n",
    "\n",
    "        # Append the combined string to the list\n",
    "        if row_text:\n",
    "            text_rows.append(\"|\" + row_text + \"|\")\n",
    "\n",
    "    # Join all rows into a single string separated by newlines\n",
    "    #result_text = \"\\n\".join(text_rows)\n",
    "\n",
    "    return text_rows"
   ]
  },
  {
   "cell_type": "code",
   "execution_count": 5,
   "metadata": {},
   "outputs": [],
   "source": [
    "target_text = table_to_text(sheets)\n",
    "target_text = \"\\n\".join(target_text)\n"
   ]
  },
  {
   "cell_type": "code",
   "execution_count": 6,
   "metadata": {},
   "outputs": [
    {
     "data": {
      "text/plain": [
       "\"|► Recette|\\n|Merci de détailler ci-dessous la composition exacte du produit tel qu’il est proposé à ARYZTA. La recette doit être découpée par semi-fini et les % de matières premières exprimés par semi-fini. Les ingrédients des MP composées sont à détailler également. Un exemple de déclaration est proposé dans l'onglet EXEMPLE DECLARATION RECETTE.|\\n|Type | Dénomination Semi-Fini | % SF | Dénomination Matière Première | % MP | Détail ingrédients si Matière première composée | Pays d'origine / Zone FAO \\n(pour les viandes et les poissons) | Informations supplémentaires |\\n|Semi-Fini | 330200 MOUSSE FRAMBOISE MOINS SUCRE | 41.5|\\n|Matière première | 1120028 FRAMBOISE PUREE SUCREE 10pourcent | 34.982508745627186 | Serbie-Bosnie&Herzegovine|\\n|Matière première | 1050004 EAU | 5.997001499250375 | France|\\n|Matière première | 1020001 SUCRE CRISTAL | 5.997001499250375 | UE|\\n|Matière première | 1150038 LAMEQUICK CE RSPO | 1.949025487256372 | sirop de glucose, huile de palmiste, émulsifiant : E472a (acetic acid esters of mono- and diglycerides of fatty acids), protéine de lait. | UE des 27 | étiquettage : émulsifiant : E472a (LAIT)\\nle reste : support non déclarable - palme RSPO|\\n|Matière première | 1030011 CREME 35% UHT 10L DDJ  | 49.97501249375313 | crème de LAIT, stabilisant : E407 | UE|\\n|Matière première | 1000024 GELATINE BOVINE 200 BLOOM | 1.099450274862569 | Turquie/France|\\n|Semi-Fini | SF2605 CREMEUX PISTACHE AVEC AROME DS | 17.3|\\n|Matière première | 1020001 SUCRE CRISTAL | 15.40120129370091 | UE|\\n|Matière première | 1110008 OEUF ENTIER PAST SOL | 15.40120129370091 | œufs issus poule élevée au sol|\\n|Matière première | 1030011 CREME 35% UHT 10L DDJ  | 30.80240258740182 | crème de LAIT, stabilisant : E407 | UE|\\n|Matière première | 1000024 GELATINE BOVINE 200 BLOOM | 1.0780840905590636 | Turquie/France|\\n|Matière première | 1130019 PUR PATE DE PISTACHE | 4.620360388110273 | France | pistache : californie|\\n|Matière première | 1030032 LAIT ENTIER UHT OUTRE 10L | 30.80240258740182 | UE|\\n|Matière première | MP73 arome pistache naturel  | 0.6622516556291391 | France|\\n|Semi-Fini | 330401 BASE VERTE SPIRULINE | 1.2320961034960727|\\n|Matière première | 1050004 EAU | 96.15384615384615 | France|\\n|Matière première | 1150070 SPIRULINE VERTE POUDRE | 3.846153846153846 | extrait de spiruline | France|\\n|Semi-Fini | 320489 FEUILLE BISCUIT nature SANS ADDITIF OEUFS SOL | 13.5|\\n|Matière première | 1010038 PREPA BISCUIT NATURE CLEAN | 52.80437756497948 | sucre 45.4%, amidon de BLE 23.3%, farine de BLE 20.7%, spongolit pure 6.4% (hydrolysat de protéines de LAIT, glucose), fibres d'AVOINE 4.2% | France|\\n|Matière première | 1110008 OEUF ENTIER PAST SOL | 37.61969904240766 | France - UE possible | œufs issus poule élevée au sol|\\n|Matière première | 1110010 JAUNE OEUF SOL | 6.839945280437757 | France - UE possible | œufs issus poule élevée au sol|\\n|Matière première | 1050004 EAU | 2.735978112175103 | France|\\n|Matière première | 1050006 GRAISSE DS | 0 | graisse de démoulage (huiles végétales non hydrogénées (colza), agent d'enrobabe : E903, eau) | Pays Bas | auxilliaire technologique|\\n|Semi-Fini | 330042 SF FRAMBOISE PEPIN MAISON      | 10.4|\\n|Matière première | 1020001 SUCRE CRISTAL | 36.210018105009055 | UE|\\n|Matière première | 1120029 FRAMBOISE BRISURES | 60.35003017501509 | Pologne|\\n|Matière première | 1190011 PECTINE 325 NH 95 | 1.5087507543753773 | France|\\n|Matière première | 1000024 GELATINE BOVINE 200 BLOOM | 1.931200965600483 | Turquie/France|\\n|Semi-Fini | 320064 FEUILLETINE CHOCOLAT BLANC  | 9 | Turquie/France|\\n|Matière première | 1160009 CHOC BLANC G-WLL263M-558 | 75 | sucre, poudre de LAIT entier, beurre de cacao, émulsifiant : E322 (SOJA), arôme naturel de vanille | Belgique|\\n|Matière première | 1050012 HUILE DE TOURNESOL BIDON | 12.5 | France-Espagne|\\n|Matière première | 1100019 CREPES BRISURES | 12.5 | farine de BLE, sucre, BEURRE concentré, LAIT écrémé en poudre, malt d'ORGE, sel | France|\\n|Semi-Fini | SF2646 GLACAGE ROSE NAPPEUSE IOTA | 8.3|\\n|Matière première | 1050004 EAU | 11.385075792075988|\\n|Matière première | 1190007 GLASSAGE MIROIR NEUTRE NAPP | 73.18977294905993 | eau, sirop de glucose, sucre, gélifiants : E406, E440, épaississants : E466, E415, acidifiant : E330, conservateur : E202) | Belgique|\\n|Semi-Fini | SF2624 MELANGE IOTA SUCRE GLUC | 15.125886409472386|\\n|Matière première | 1020001 SUCRE CRISTAL N2 | 75.26881720430107 | UE|\\n|Matière première | MP3616 IOTA CARRAGHENANES | 3.225806451612903 | gélifiant : E407 (carraghènane, dextrose) | France|\\n|Matière première | 1000027 GLUCOSE ATOMISE  BT 1 25KG | 21.50537634408602 | sirop de glucose. | France|\\n|Semi-Fini | SF1447 BASE ROUGE COL VEGETAL NAT | 0.29926484939171166|\\n|Matière première | 1050004 EAU | 84.26966292134831 | France|\\n|Matière première | 1150025 COL PAPRIKA 04126 LIQUIDE | 2.247191011235955 | colorant : E160c | France|\\n|Matière première | 1150068 COLORANT ROUGE SEVAR 4585 | 13.48314606741573 | Ingrédients colorants (jus concentré de betterave, jus concentré d'acérola, jus de citron) | France | Non déclarable : agent standardisation : maltodextrine, régulateur d'acidité : E330, antioxydant : E300 |\\n|Total %  | 100|\\n|Préciser si les pourcentages indiqués correspondent aux :|\\n|Liste d’ingrédients (telle que déclarée sur l’étiquette):|\\n|Crème UHT (crème de LAIT, stabilisant : E407), purée de framboise 13% (framboise 12%, sucre) , sucre, ŒUFS entier issus d'élevage ponte au sol, chocolat blanc 6% (sucre, poudre de LAIT entier, beurre de cacao, émulsifiant : lécithine de SOJA, arôme naturel de vanille), brisures de framboise 5%, glaçage (eau, sirop de glucose, sucre, gélifiants : E406, E440, épaississants : E466, E415, acidifiant : E330, conservateur : E202), LAIT entier UHT, eau, amidon de BLE, farine de BLE, huile de tournesol, éclats de crêpe 0.8% (farine de BLE, sucre, BEURRE concentré, LAIT écrémé en poudre, malt d'ORGE, sel), jaune d'ŒUFS issus d'élevage ponte au sol, gélatine bovine, émulsifiants : E472a (LAIT), pâte de PISTACHE 0.5%, hydrolysat de protéines de LAIT et glucose, fibres d'AVOINE, glucose, gélifiant : E440ii, arôme naturel de pistache 0.1%, gélifiant : E407 (carraghénanes, dextrose), extrait de spiruline, ingrédients colorants (jus concentré de betterave, jus concentré d'acérola, jus de citron), colorant : E160c.|\""
      ]
     },
     "execution_count": 6,
     "metadata": {},
     "output_type": "execute_result"
    }
   ],
   "source": [
    "target_text"
   ]
  },
  {
   "cell_type": "code",
   "execution_count": 18,
   "metadata": {},
   "outputs": [],
   "source": [
    "# prompt = PromptTemplate(\n",
    "#     template=\"\"\"\n",
    "# You are a question generator to verify a given document is following the requirements to be accepted by the company. You are given an excel table transformed into a markdown text.\n",
    "# Here is the specific context of the markdown text:\n",
    "# {specific_context}\n",
    "\n",
    "# Here is the markdown text:\n",
    "# {target_text}\n",
    "\n",
    "# Please generate a question to verify the document is following the requirements to be accepted by the company. The question should be a yes/no question.\n",
    "# Respond in the same language than the markdown text.\n",
    "# Questions : \"\"\",\n",
    "#     input_variables=[\"specific_context\",\"target_text\"],\n",
    "# )"
   ]
  },
  {
   "cell_type": "code",
   "execution_count": null,
   "metadata": {},
   "outputs": [],
   "source": [
    "generic_prompt = \"\"\"\"\n",
    "You will be generating questions to verify the compliance of elements based on a reference document that is not given and an applying document. \n",
    "\n",
    "Here is the specific context of the applying document:\n",
    "<specific context>\n",
    "{specific_context}\n",
    "<specific context>\n",
    "\n",
    "\n",
    "Here is the applying document text in md:\n",
    "<applying document>\n",
    "{target_text}\n",
    "</applying document>\n",
    "\n",
    "Please generate a question to verify the document is following the requirements to be accepted by the company. The question should be a yes/no question.\n",
    "Respond in the same language than the markdown text.\n",
    "Questions : \"\"\""
   ]
  },
  {
   "cell_type": "code",
   "execution_count": 98,
   "metadata": {},
   "outputs": [],
   "source": [
    "generic_prompt = \"\"\"You will be generating questions to verify the compliance of items based on a provided document. Here is the document:\n",
    "<document>\n",
    "{DOCUMENT}\n",
    "</document>\n",
    "\n",
    "<document_context>\n",
    "{DOCUMENT_CONTEXT}\n",
    "</document_context>\n",
    "\n",
    "Please follow these steps to generate the questions:\n",
    "\n",
    "Carefully review the document and items table to understand the context and requirements. Review the input language to know in which language you should generate the questions.\n",
    "Extract the individual raw items from the items table. For composed items, break them down into their sub-items. Focus on the raw items only, not the composed items themselves.\n",
    "For each raw item, formulate a specific question to verify its compliance with the requirements outlined in the document. The question should be in the format: \"Is [item information] compliant with the requirements?\"\n",
    "When generating each question, include all relevant information about the item so that the question can be answered without needing to refer back to the items table. This is important because the team verifying the items will not have access to the table.\n",
    "Before providing the final questions, write out your thought process and reasoning inside <scratchpad> tags. Explain how you extracted the raw items and formulated each question.\n",
    "Finally, output the generated questions inside <questions> tags, with each question on a separate line.\n",
    "\n",
    "Remember, the goal is to create specific, informative questions for each raw item to verify compliance with the requirements outlined in the document. Make sure to provide all necessary context within the questions themselves.\n",
    "\"\"\""
   ]
  },
  {
   "cell_type": "code",
   "execution_count": 99,
   "metadata": {},
   "outputs": [],
   "source": [
    "prompt = PromptTemplate(\n",
    "    template=generic_prompt,\n",
    "    input_variables=[\"DOCUMENT\",\"DOCUMENT_CONTEXT\"],\n",
    ")"
   ]
  },
  {
   "cell_type": "code",
   "execution_count": 47,
   "metadata": {},
   "outputs": [],
   "source": [
    "# specific_context = \"\"\"\n",
    "# You will be generating questions to verify the compliance of ingredients based on a provided document and ingredients table. Here is the document:\n",
    "\n",
    "# <document>\n",
    "# {{DOCUMENT}}\n",
    "# </document>\n",
    "\n",
    "# And here is the ingredients table:\n",
    "\n",
    "# <ingredients_table>\n",
    "# {{INGREDIENTS_TABLE}}\n",
    "# </ingredients_table>\n",
    "\n",
    "# Please follow these steps to generate the questions:\n",
    "\n",
    "# 1. Carefully review the document and ingredients table to understand the context and requirements.\n",
    "\n",
    "# 2. Extract the individual raw ingredients from the ingredients table. For composed ingredients, break them down into their sub-ingredients. Focus on the raw ingredients only, not the composed ingredients themselves.\n",
    "\n",
    "# 3. For each raw ingredient, formulate a specific question to verify its compliance with the company policy. The question should be in the format: \"Is [ingredient information] compliant with the company policy?\"\n",
    "\n",
    "# 4. When generating each question, include all relevant information about the ingredient so that the question can be answered without needing to refer back to the ingredients table. This is important because the team verifying the ingredients will not have access to the table.\n",
    "\n",
    "# 5. Before providing the final questions, write out your thought process and reasoning inside <scratchpad> tags. Explain how you extracted the raw ingredients and formulated each question.\n",
    "\n",
    "# 6. Finally, output the generated questions inside <questions> tags, with each question on a separate line.\n",
    "\n",
    "# Remember, the goal is to create specific, informative questions for each raw ingredient to verify compliance with the company policy. Make sure to provide all necessary context within the questions themselves.\n",
    "\n",
    "# Please generate the questions now, following the provided instructions carefully.\"\"\""
   ]
  },
  {
   "cell_type": "code",
   "execution_count": 110,
   "metadata": {},
   "outputs": [],
   "source": [
    "specific_context = \"\"\"\n",
    "The document is a list of specificity for a pastry product, every ingredient listed must be verified to be accepted by the Coup de Pates company.\n",
    "Extract the individual raw ingredients from the ingredients table. For composed ingredients, break them down into their sub-ingredients. Focus on the raw ingredients only, not the composed ingredients themselves.\n",
    "When generating each question, include all relevant information about the ingredient so that the question can be answered without needing to refer back to the ingredients table. This is important because the team verifying the ingredients will not have access to the table.\n",
    "Look for the most detail in each ingredient, such as the labels (RSPCO, élevés en cage), do not add the country it is from.\n",
    "Do not ask for an ingredient that is not raw, only raw ingredients are to be verified such as sugar, additifs, oil, colorants, etc.\n",
    "\n",
    "The questions must be specific to a unique ingredient at each time.\n",
    "The question will be asked directly to the \"Charte Qualité\" team, they won't have access to the provided document.\n",
    "\"\"\""
   ]
  },
  {
   "cell_type": "code",
   "execution_count": 111,
   "metadata": {},
   "outputs": [],
   "source": [
    "llm = ChatOpenAI(model=\"gpt-4o\", temperature = 0.1)\n",
    "llm_chain = prompt | llm \n",
    "\n",
    "questions = llm_chain.invoke({\"DOCUMENT\": target_text, \"DOCUMENT_CONTEXT\": specific_context })"
   ]
  },
  {
   "cell_type": "code",
   "execution_count": 112,
   "metadata": {},
   "outputs": [],
   "source": [
    "question_list = str(questions.content).split(\"\\n\")"
   ]
  },
  {
   "cell_type": "code",
   "execution_count": 113,
   "metadata": {},
   "outputs": [
    {
     "name": "stdout",
     "output_type": "stream",
     "text": [
      "<scratchpad>\n",
      "1. **Review the document and items table**: The document provides a detailed list of ingredients for a pastry product, broken down into semi-finished products and their respective raw materials. Each raw material is listed with its percentage composition and additional details such as sub-ingredients for composed materials.\n",
      "\n",
      "2. **Extract individual raw items**: \n",
      "   - For each semi-finished product, identify the raw materials.\n",
      "   - For composed materials, break them down into their sub-ingredients.\n",
      "\n",
      "3. **Formulate specific questions**: \n",
      "   - Each question should be specific to a unique raw ingredient.\n",
      "   - Include all relevant information about the ingredient in the question.\n",
      "   - Ensure the question is in French, as the document is in French.\n",
      "\n",
      "4. **Example breakdown**:\n",
      "   - For \"1150038 LAMEQUICK CE RSPO\", the sub-ingredients are: sirop de glucose, huile de palmiste, émulsifiant : E472a (acetic acid esters of mono- and diglycerides of fatty acids), protéine de lait.\n",
      "   - For \"1160009 CHOC BLANC G-WLL263M-558\", the sub-ingredients are: sucre, poudre de lait entier, beurre de cacao, émulsifiant : E322 (SOJA), arôme naturel de vanille.\n",
      "\n",
      "5. **Generate questions**:\n",
      "   - Each question will ask if a specific raw ingredient is compliant with the requirements.\n",
      "   - Include details such as labels (e.g., RSPO, élevés en cage) but exclude the country of origin.\n",
      "\n",
      "</scratchpad>\n",
      "\n",
      "<questions>\n",
      "Is \"framboise\" compliant with the requirements?\n",
      "Is \"eau\" compliant with the requirements?\n",
      "Is \"sucre cristal\" compliant with the requirements?\n",
      "Is \"sirop de glucose\" (from LAMEQUICK CE RSPO) compliant with the requirements?\n",
      "Is \"huile de palmiste\" (from LAMEQUICK CE RSPO) compliant with the requirements?\n",
      "Is \"émulsifiant : E472a (acetic acid esters of mono- and diglycerides of fatty acids)\" (from LAMEQUICK CE RSPO) compliant with the requirements?\n",
      "Is \"protéine de lait\" (from LAMEQUICK CE RSPO) compliant with the requirements?\n",
      "Is \"crème de lait\" (from CREME 35% UHT 10L DDJ) compliant with the requirements?\n",
      "Is \"stabilisant : E407\" (from CREME 35% UHT 10L DDJ) compliant with the requirements?\n",
      "Is \"gélatine bovine\" compliant with the requirements?\n",
      "Is \"œuf entier\" compliant with the requirements?\n",
      "Is \"pistache\" (from PUR PATE DE PISTACHE) compliant with the requirements?\n",
      "Is \"lait entier\" compliant with the requirements?\n",
      "Is \"arôme pistache naturel\" compliant with the requirements?\n",
      "Is \"spiruline verte poudre\" compliant with the requirements?\n",
      "Is \"sucre\" (from PREPA BISCUIT NATURE CLEAN) compliant with the requirements?\n",
      "Is \"amidon de blé\" (from PREPA BISCUIT NATURE CLEAN) compliant with the requirements?\n",
      "Is \"farine de blé\" (from PREPA BISCUIT NATURE CLEAN) compliant with the requirements?\n",
      "Is \"hydrolysat de protéines de lait\" (from PREPA BISCUIT NATURE CLEAN) compliant with the requirements?\n",
      "Is \"fibres d'avoine\" (from PREPA BISCUIT NATURE CLEAN) compliant with the requirements?\n",
      "Is \"jaune d'œuf\" compliant with the requirements?\n",
      "Is \"graisse de démoulage\" compliant with the requirements?\n",
      "Is \"pectine\" compliant with the requirements?\n",
      "Is \"beurre de cacao\" (from CHOC BLANC G-WLL263M-558) compliant with the requirements?\n",
      "Is \"émulsifiant : E322 (SOJA)\" (from CHOC BLANC G-WLL263M-558) compliant with the requirements?\n",
      "Is \"arôme naturel de vanille\" (from CHOC BLANC G-WLL263M-558) compliant with the requirements?\n",
      "Is \"huile de tournesol\" compliant with the requirements?\n",
      "Is \"farine de blé\" (from CREPES BRISURES) compliant with the requirements?\n",
      "Is \"beurre concentré\" (from CREPES BRISURES) compliant with the requirements?\n",
      "Is \"lait écrémé en poudre\" (from CREPES BRISURES) compliant with the requirements?\n",
      "Is \"malt d'orge\" (from CREPES BRISURES) compliant with the requirements?\n",
      "Is \"sel\" (from CREPES BRISURES) compliant with the requirements?\n",
      "Is \"gélifiant : E406\" (from GLASSAGE MIROIR NEUTRE NAPP) compliant with the requirements?\n",
      "Is \"gélifiant : E440\" (from GLASSAGE MIROIR NEUTRE NAPP) compliant with the requirements?\n",
      "Is \"épaississant : E466\" (from GLASSAGE MIROIR NEUTRE NAPP) compliant with the requirements?\n",
      "Is \"épaississant : E415\" (from GLASSAGE MIROIR NEUTRE NAPP) compliant with the requirements?\n",
      "Is \"acidifiant : E330\" (from GLASSAGE MIROIR NEUTRE NAPP) compliant with the requirements?\n",
      "Is \"conservateur : E202\" (from GLASSAGE MIROIR NEUTRE NAPP) compliant with the requirements?\n",
      "Is \"gélifiant : E407 (carraghénanes, dextrose)\" (from IOTA CARRAGHENANES) compliant with the requirements?\n",
      "Is \"colorant : E160c\" (from COL PAPRIKA 04126 LIQUIDE) compliant with the requirements?\n",
      "Is \"jus concentré de betterave\" (from COLORANT ROUGE SEVAR 4585) compliant with the requirements?\n",
      "Is \"jus concentré d'acérola\" (from COLORANT ROUGE SEVAR 4585) compliant with the requirements?\n",
      "Is \"jus de citron\" (from COLORANT ROUGE SEVAR 4585) compliant with the requirements?\n",
      "Is \"maltodextrine\" (from COLORANT ROUGE SEVAR 4585) compliant with the requirements?\n",
      "Is \"régulateur d'acidité : E330\" (from COLORANT ROUGE SEVAR 4585) compliant with the requirements?\n",
      "Is \"antioxydant : E300\" (from COLORANT ROUGE SEVAR 4585) compliant with the requirements?\n",
      "</questions>\n"
     ]
    }
   ],
   "source": [
    "for question in question_list:\n",
    "    print(question)"
   ]
  },
  {
   "cell_type": "code",
   "execution_count": 116,
   "metadata": {},
   "outputs": [
    {
     "name": "stdout",
     "output_type": "stream",
     "text": [
      "\n",
      "Is \"framboise\" compliant with the requirements?\n",
      "Is \"eau\" compliant with the requirements?\n",
      "Is \"sucre cristal\" compliant with the requirements?\n",
      "Is \"sirop de glucose\" (from LAMEQUICK CE RSPO) compliant with the requirements?\n",
      "Is \"huile de palmiste\" (from LAMEQUICK CE RSPO) compliant with the requirements?\n",
      "Is \"émulsifiant : E472a (acetic acid esters of mono- and diglycerides of fatty acids)\" (from LAMEQUICK CE RSPO) compliant with the requirements?\n",
      "Is \"protéine de lait\" (from LAMEQUICK CE RSPO) compliant with the requirements?\n",
      "Is \"crème de lait\" (from CREME 35% UHT 10L DDJ) compliant with the requirements?\n",
      "Is \"stabilisant : E407\" (from CREME 35% UHT 10L DDJ) compliant with the requirements?\n",
      "Is \"gélatine bovine\" compliant with the requirements?\n",
      "Is \"œuf entier\" compliant with the requirements?\n",
      "Is \"pistache\" (from PUR PATE DE PISTACHE) compliant with the requirements?\n",
      "Is \"lait entier\" compliant with the requirements?\n",
      "Is \"arôme pistache naturel\" compliant with the requirements?\n",
      "Is \"spiruline verte poudre\" compliant with the requirements?\n",
      "Is \"sucre\" (from PREPA BISCUIT NATURE CLEAN) compliant with the requirements?\n",
      "Is \"amidon de blé\" (from PREPA BISCUIT NATURE CLEAN) compliant with the requirements?\n",
      "Is \"farine de blé\" (from PREPA BISCUIT NATURE CLEAN) compliant with the requirements?\n",
      "Is \"hydrolysat de protéines de lait\" (from PREPA BISCUIT NATURE CLEAN) compliant with the requirements?\n",
      "Is \"fibres d'avoine\" (from PREPA BISCUIT NATURE CLEAN) compliant with the requirements?\n",
      "Is \"jaune d'œuf\" compliant with the requirements?\n",
      "Is \"graisse de démoulage\" compliant with the requirements?\n",
      "Is \"pectine\" compliant with the requirements?\n",
      "Is \"beurre de cacao\" (from CHOC BLANC G-WLL263M-558) compliant with the requirements?\n",
      "Is \"émulsifiant : E322 (SOJA)\" (from CHOC BLANC G-WLL263M-558) compliant with the requirements?\n",
      "Is \"arôme naturel de vanille\" (from CHOC BLANC G-WLL263M-558) compliant with the requirements?\n",
      "Is \"huile de tournesol\" compliant with the requirements?\n",
      "Is \"farine de blé\" (from CREPES BRISURES) compliant with the requirements?\n",
      "Is \"beurre concentré\" (from CREPES BRISURES) compliant with the requirements?\n",
      "Is \"lait écrémé en poudre\" (from CREPES BRISURES) compliant with the requirements?\n",
      "Is \"malt d'orge\" (from CREPES BRISURES) compliant with the requirements?\n",
      "Is \"sel\" (from CREPES BRISURES) compliant with the requirements?\n",
      "Is \"gélifiant : E406\" (from GLASSAGE MIROIR NEUTRE NAPP) compliant with the requirements?\n",
      "Is \"gélifiant : E440\" (from GLASSAGE MIROIR NEUTRE NAPP) compliant with the requirements?\n",
      "Is \"épaississant : E466\" (from GLASSAGE MIROIR NEUTRE NAPP) compliant with the requirements?\n",
      "Is \"épaississant : E415\" (from GLASSAGE MIROIR NEUTRE NAPP) compliant with the requirements?\n",
      "Is \"acidifiant : E330\" (from GLASSAGE MIROIR NEUTRE NAPP) compliant with the requirements?\n",
      "Is \"conservateur : E202\" (from GLASSAGE MIROIR NEUTRE NAPP) compliant with the requirements?\n",
      "Is \"gélifiant : E407 (carraghénanes, dextrose)\" (from IOTA CARRAGHENANES) compliant with the requirements?\n",
      "Is \"colorant : E160c\" (from COL PAPRIKA 04126 LIQUIDE) compliant with the requirements?\n",
      "Is \"jus concentré de betterave\" (from COLORANT ROUGE SEVAR 4585) compliant with the requirements?\n",
      "Is \"jus concentré d'acérola\" (from COLORANT ROUGE SEVAR 4585) compliant with the requirements?\n",
      "Is \"jus de citron\" (from COLORANT ROUGE SEVAR 4585) compliant with the requirements?\n",
      "Is \"maltodextrine\" (from COLORANT ROUGE SEVAR 4585) compliant with the requirements?\n",
      "Is \"régulateur d'acidité : E330\" (from COLORANT ROUGE SEVAR 4585) compliant with the requirements?\n",
      "Is \"antioxydant : E300\" (from COLORANT ROUGE SEVAR 4585) compliant with the requirements?\n",
      "\n"
     ]
    }
   ],
   "source": [
    "from bs4 import BeautifulSoup\n",
    "\n",
    "# Parse the text with BeautifulSoup\n",
    "soup = BeautifulSoup(str(questions.content), 'html.parser')\n",
    "\n",
    "# Find the content inside <questions>\n",
    "questions_content = soup.find('questions').text\n",
    "\n",
    "print(questions_content)"
   ]
  },
  {
   "cell_type": "code",
   "execution_count": 122,
   "metadata": {},
   "outputs": [],
   "source": [
    "llm = ChatOpenAI(model=\"gpt-4o\", temperature = 0.1)\n",
    "\n",
    "prompt = PromptTemplate(\n",
    "    template=\"\"\"Traduit ces questions en francais : {questions} \n",
    "    \n",
    "    Renvois un une liste avec les questions directement : \"\"\",\n",
    "    input_variables=[\"questions\"],\n",
    ")\n",
    "\n",
    "llm_chain = prompt | llm \n",
    "\n",
    "fr_questions = llm_chain.invoke({\"questions\": questions_content })"
   ]
  },
  {
   "cell_type": "code",
   "execution_count": 125,
   "metadata": {},
   "outputs": [
    {
     "name": "stdout",
     "output_type": "stream",
     "text": [
      "- Est-ce que \"framboise\" est conforme aux exigences ?\n",
      "- Est-ce que \"eau\" est conforme aux exigences ?\n",
      "- Est-ce que \"sucre cristal\" est conforme aux exigences ?\n",
      "- Est-ce que \"sirop de glucose\" (de LAMEQUICK CE RSPO) est conforme aux exigences ?\n",
      "- Est-ce que \"huile de palmiste\" (de LAMEQUICK CE RSPO) est conforme aux exigences ?\n",
      "- Est-ce que \"émulsifiant : E472a (esters acétiques de mono- et diglycérides d'acides gras)\" (de LAMEQUICK CE RSPO) est conforme aux exigences ?\n",
      "- Est-ce que \"protéine de lait\" (de LAMEQUICK CE RSPO) est conforme aux exigences ?\n",
      "- Est-ce que \"crème de lait\" (de CREME 35% UHT 10L DDJ) est conforme aux exigences ?\n",
      "- Est-ce que \"stabilisant : E407\" (de CREME 35% UHT 10L DDJ) est conforme aux exigences ?\n",
      "- Est-ce que \"gélatine bovine\" est conforme aux exigences ?\n",
      "- Est-ce que \"œuf entier\" est conforme aux exigences ?\n",
      "- Est-ce que \"pistache\" (de PUR PATE DE PISTACHE) est conforme aux exigences ?\n",
      "- Est-ce que \"lait entier\" est conforme aux exigences ?\n",
      "- Est-ce que \"arôme pistache naturel\" est conforme aux exigences ?\n",
      "- Est-ce que \"spiruline verte poudre\" est conforme aux exigences ?\n",
      "- Est-ce que \"sucre\" (de PREPA BISCUIT NATURE CLEAN) est conforme aux exigences ?\n",
      "- Est-ce que \"amidon de blé\" (de PREPA BISCUIT NATURE CLEAN) est conforme aux exigences ?\n",
      "- Est-ce que \"farine de blé\" (de PREPA BISCUIT NATURE CLEAN) est conforme aux exigences ?\n",
      "- Est-ce que \"hydrolysat de protéines de lait\" (de PREPA BISCUIT NATURE CLEAN) est conforme aux exigences ?\n",
      "- Est-ce que \"fibres d'avoine\" (de PREPA BISCUIT NATURE CLEAN) est conforme aux exigences ?\n",
      "- Est-ce que \"jaune d'œuf\" est conforme aux exigences ?\n",
      "- Est-ce que \"graisse de démoulage\" est conforme aux exigences ?\n",
      "- Est-ce que \"pectine\" est conforme aux exigences ?\n",
      "- Est-ce que \"beurre de cacao\" (de CHOC BLANC G-WLL263M-558) est conforme aux exigences ?\n",
      "- Est-ce que \"émulsifiant : E322 (SOJA)\" (de CHOC BLANC G-WLL263M-558) est conforme aux exigences ?\n",
      "- Est-ce que \"arôme naturel de vanille\" (de CHOC BLANC G-WLL263M-558) est conforme aux exigences ?\n",
      "- Est-ce que \"huile de tournesol\" est conforme aux exigences ?\n",
      "- Est-ce que \"farine de blé\" (de CREPES BRISURES) est conforme aux exigences ?\n",
      "- Est-ce que \"beurre concentré\" (de CREPES BRISURES) est conforme aux exigences ?\n",
      "- Est-ce que \"lait écrémé en poudre\" (de CREPES BRISURES) est conforme aux exigences ?\n",
      "- Est-ce que \"malt d'orge\" (de CREPES BRISURES) est conforme aux exigences ?\n",
      "- Est-ce que \"sel\" (de CREPES BRISURES) est conforme aux exigences ?\n",
      "- Est-ce que \"gélifiant : E406\" (de GLASSAGE MIROIR NEUTRE NAPP) est conforme aux exigences ?\n",
      "- Est-ce que \"gélifiant : E440\" (de GLASSAGE MIROIR NEUTRE NAPP) est conforme aux exigences ?\n",
      "- Est-ce que \"épaississant : E466\" (de GLASSAGE MIROIR NEUTRE NAPP) est conforme aux exigences ?\n",
      "- Est-ce que \"épaississant : E415\" (de GLASSAGE MIROIR NEUTRE NAPP) est conforme aux exigences ?\n",
      "- Est-ce que \"acidifiant : E330\" (de GLASSAGE MIROIR NEUTRE NAPP) est conforme aux exigences ?\n",
      "- Est-ce que \"conservateur : E202\" (de GLASSAGE MIROIR NEUTRE NAPP) est conforme aux exigences ?\n",
      "- Est-ce que \"gélifiant : E407 (carraghénanes, dextrose)\" (de IOTA CARRAGHENANES) est conforme aux exigences ?\n",
      "- Est-ce que \"colorant : E160c\" (de COL PAPRIKA 04126 LIQUIDE) est conforme aux exigences ?\n",
      "- Est-ce que \"jus concentré de betterave\" (de COLORANT ROUGE SEVAR 4585) est conforme aux exigences ?\n",
      "- Est-ce que \"jus concentré d'acérola\" (de COLORANT ROUGE SEVAR 4585) est conforme aux exigences ?\n",
      "- Est-ce que \"jus de citron\" (de COLORANT ROUGE SEVAR 4585) est conforme aux exigences ?\n",
      "- Est-ce que \"maltodextrine\" (de COLORANT ROUGE SEVAR 4585) est conforme aux exigences ?\n",
      "- Est-ce que \"régulateur d'acidité : E330\" (de COLORANT ROUGE SEVAR 4585) est conforme aux exigences ?\n",
      "- Est-ce que \"antioxydant : E300\" (de COLORANT ROUGE SEVAR 4585) est conforme aux exigences ?\n"
     ]
    }
   ],
   "source": [
    "print(fr_questions.content)"
   ]
  }
 ],
 "metadata": {
  "kernelspec": {
   "display_name": "MegaParse-onLGVT8Y",
   "language": "python",
   "name": "python3"
  },
  "language_info": {
   "codemirror_mode": {
    "name": "ipython",
    "version": 3
   },
   "file_extension": ".py",
   "mimetype": "text/x-python",
   "name": "python",
   "nbconvert_exporter": "python",
   "pygments_lexer": "ipython3",
   "version": "3.12.3"
  }
 },
 "nbformat": 4,
 "nbformat_minor": 2
}
