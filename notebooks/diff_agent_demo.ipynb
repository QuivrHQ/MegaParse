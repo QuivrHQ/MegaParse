{
 "cells": [
  {
   "cell_type": "code",
   "execution_count": 1,
   "metadata": {},
   "outputs": [],
   "source": [
    "import sys\n",
    "sys.path.append('../')\n",
    "from megaparse.cdp.utils.diff_agent import DifferenceAgent, ContextType\n",
    "from megaparse.cdp.utils.query_engine import DiffQueryEngine\n",
    "from pathlib import Path\n",
    "from megaparse.cdp.utils.question_generator import QuestionGenerator"
   ]
  },
  {
   "cell_type": "code",
   "execution_count": 2,
   "metadata": {},
   "outputs": [],
   "source": [
    "diff_query_engine = DiffQueryEngine(Path(\"../megaparse/cdp/CDP_QUAL_CHART_01_CHARTE_PRODUITS.md\"), top_k= 15)\n",
    "question_generator = QuestionGenerator()"
   ]
  },
  {
   "cell_type": "code",
   "execution_count": 3,
   "metadata": {},
   "outputs": [],
   "source": [
    "agent = DifferenceAgent(diff_query_engine, document_context= None, question_generator=question_generator)"
   ]
  },
  {
   "cell_type": "code",
   "execution_count": 4,
   "metadata": {},
   "outputs": [
    {
     "name": "stdout",
     "output_type": "stream",
     "text": [
      "Generating Questions ...\n",
      "Verifying language and translating questions ...\n",
      "37 questions générées)\n"
     ]
    }
   ],
   "source": [
    "questions = agent.generate_questions(Path(\"../megaparse/cdp/exemple_fournisseur.xlsx\"), tab_name = 'Fiche recette', language_verification= True)\n",
    "print(f\"{len(questions)} questions générées\") #type: ignore"
   ]
  },
  {
   "cell_type": "code",
   "execution_count": null,
   "metadata": {},
   "outputs": [],
   "source": [
    "additional_contexts = [\n",
    "                        ContextType(category='Coeur de Gamme', context='pour les produits de la catégorie Coeur de Gamme ?'),\n",
    "                        ]\n",
    "generated_df = agent.run(additional_context=additional_contexts[0])\n"
   ]
  },
  {
   "cell_type": "code",
   "execution_count": 24,
   "metadata": {},
   "outputs": [],
   "source": [
    "import pandas as pd\n",
    "def generate_authorisation_report(df, output_file):\n",
    "    # Ensure the dataframe has the required columns\n",
    "    if 'name' not in df.columns or 'decision' not in df.columns:\n",
    "        raise ValueError(\"DataFrame must contain 'name' and 'decision' columns\")\n",
    "\n",
    "    # Extract forbidden and to avoid ingredients\n",
    "    forbidden_ingredients = df[df['decision'] == 'Forbidden'][['name', 'detailed_answer']].values.tolist()\n",
    "    to_avoid_ingredients = df[df['decision'] == 'To Avoid'][['name', 'detailed_answer']].values.tolist()\n",
    "\n",
    "    # Create the markdown content\n",
    "    markdown_content = \"# Coup de Pates\\n\\n\"\n",
    "    markdown_content += \"## Rapport d'analyse\\n\\n\"\n",
    "\n",
    "    if forbidden_ingredients:\n",
    "        markdown_content += \"### Ingrédients utilisés **Interdits**\\n\\n\"\n",
    "        for ingredient, detail in forbidden_ingredients:\n",
    "            markdown_content += f\"**{ingredient}**: *{detail}*\\n\\n\"\n",
    "    else:\n",
    "        markdown_content += \"### Ingrédients utilisés **Interdits**\\n- Aucun\\n\\n\"\n",
    "\n",
    "    markdown_content += \"\\n\"\n",
    "\n",
    "    if to_avoid_ingredients:\n",
    "        markdown_content += \"### Ingrédients utilisés **à éviter**\\n\"\n",
    "        for ingredient, detail in to_avoid_ingredients:\n",
    "            markdown_content += f\"**{ingredient}** : *{detail}*\\n\\n\"\n",
    "    else:\n",
    "        markdown_content += \"### To Avoid Ingredients\\n- None\\n\\n\"\n",
    "\n",
    "    # Write the markdown content to the file\n",
    "    with open(output_file, 'w') as file:\n",
    "        file.write(markdown_content)\n",
    "\n",
    "\n",
    "generate_authorisation_report(generated_df, 'authorization_report.md')"
   ]
  }
 ],
 "metadata": {
  "kernelspec": {
   "display_name": "MegaParse-onLGVT8Y",
   "language": "python",
   "name": "python3"
  },
  "language_info": {
   "codemirror_mode": {
    "name": "ipython",
    "version": 3
   },
   "file_extension": ".py",
   "mimetype": "text/x-python",
   "name": "python",
   "nbconvert_exporter": "python",
   "pygments_lexer": "ipython3",
   "version": "3.12.3"
  }
 },
 "nbformat": 4,
 "nbformat_minor": 2
}
